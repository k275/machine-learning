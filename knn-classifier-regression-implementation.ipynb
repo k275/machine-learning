{
 "cells": [
  {
   "cell_type": "markdown",
   "id": "618a5c81",
   "metadata": {
    "papermill": {
     "duration": 0.005975,
     "end_time": "2023-05-16T18:05:18.907552",
     "exception": false,
     "start_time": "2023-05-16T18:05:18.901577",
     "status": "completed"
    },
    "tags": []
   },
   "source": [
    "## K Nearest Neighbour Classifier\n",
    "K-nearest neighbors (KNN) is a simple, supervised machine learning algorithm that can be used for both classification and regression problems. It works by finding the k most similar instances to a new instance, and then assigning the label of the majority of those instances to the new instance.<br>\n",
    "In this post, I will walk you through the steps of implementing KNN in Python, using the codes you provided."
   ]
  },
  {
   "cell_type": "markdown",
   "id": "4e827ab5",
   "metadata": {
    "papermill": {
     "duration": 0.005211,
     "end_time": "2023-05-16T18:05:18.918387",
     "exception": false,
     "start_time": "2023-05-16T18:05:18.913176",
     "status": "completed"
    },
    "tags": []
   },
   "source": [
    "\n",
    "\n",
    "## First, we need to import the necessary libraries: "
   ]
  },
  {
   "cell_type": "code",
   "execution_count": 1,
   "id": "a792f3ed",
   "metadata": {
    "execution": {
     "iopub.execute_input": "2023-05-16T18:05:18.930993Z",
     "iopub.status.busy": "2023-05-16T18:05:18.930485Z",
     "iopub.status.idle": "2023-05-16T18:05:20.160969Z",
     "shell.execute_reply": "2023-05-16T18:05:20.160011Z"
    },
    "papermill": {
     "duration": 1.239633,
     "end_time": "2023-05-16T18:05:20.163536",
     "exception": false,
     "start_time": "2023-05-16T18:05:18.923903",
     "status": "completed"
    },
    "tags": []
   },
   "outputs": [
    {
     "name": "stderr",
     "output_type": "stream",
     "text": [
      "/opt/conda/lib/python3.10/site-packages/scipy/__init__.py:146: UserWarning: A NumPy version >=1.16.5 and <1.23.0 is required for this version of SciPy (detected version 1.23.5\n",
      "  warnings.warn(f\"A NumPy version >={np_minversion} and <{np_maxversion}\"\n"
     ]
    }
   ],
   "source": [
    "import pandas as pd\n",
    "import seaborn as sns\n",
    "import matplotlib.pyplot as plt\n",
    "import numpy as np\n",
    "%matplotlib inline"
   ]
  },
  {
   "cell_type": "markdown",
   "id": "7de98744",
   "metadata": {
    "papermill": {
     "duration": 0.00533,
     "end_time": "2023-05-16T18:05:20.174624",
     "exception": false,
     "start_time": "2023-05-16T18:05:20.169294",
     "status": "completed"
    },
    "tags": []
   },
   "source": [
    "## Next, we create a classification dataset:\n",
    "\n"
   ]
  },
  {
   "cell_type": "code",
   "execution_count": 2,
   "id": "945dd278",
   "metadata": {
    "execution": {
     "iopub.execute_input": "2023-05-16T18:05:20.188336Z",
     "iopub.status.busy": "2023-05-16T18:05:20.187447Z",
     "iopub.status.idle": "2023-05-16T18:05:20.445693Z",
     "shell.execute_reply": "2023-05-16T18:05:20.444482Z"
    },
    "papermill": {
     "duration": 0.26784,
     "end_time": "2023-05-16T18:05:20.448173",
     "exception": false,
     "start_time": "2023-05-16T18:05:20.180333",
     "status": "completed"
    },
    "tags": []
   },
   "outputs": [],
   "source": [
    "from sklearn.datasets import make_classification\n",
    "X,y=make_classification(\n",
    " n_samples=1000, # 1000 observations \n",
    "    n_features=3, # 3 total features\n",
    "    n_redundant=1, #creates an redundant feature(it does not contribute new info or calcuted from existed features)\n",
    "    n_classes=2, # binary target/label \n",
    "    random_state=999 \n",
    ")\n"
   ]
  },
  {
   "cell_type": "markdown",
   "id": "d4563c17",
   "metadata": {
    "papermill": {
     "duration": 0.005357,
     "end_time": "2023-05-16T18:05:20.459417",
     "exception": false,
     "start_time": "2023-05-16T18:05:20.454060",
     "status": "completed"
    },
    "tags": []
   },
   "source": [
    "**The X variable contains the features of the dataset, and the y variable contains the labels.**\n"
   ]
  },
  {
   "cell_type": "code",
   "execution_count": 3,
   "id": "71ccd1b9",
   "metadata": {
    "execution": {
     "iopub.execute_input": "2023-05-16T18:05:20.473253Z",
     "iopub.status.busy": "2023-05-16T18:05:20.472846Z",
     "iopub.status.idle": "2023-05-16T18:05:20.482089Z",
     "shell.execute_reply": "2023-05-16T18:05:20.481028Z"
    },
    "papermill": {
     "duration": 0.018353,
     "end_time": "2023-05-16T18:05:20.484099",
     "exception": false,
     "start_time": "2023-05-16T18:05:20.465746",
     "status": "completed"
    },
    "tags": []
   },
   "outputs": [
    {
     "data": {
      "text/plain": [
       "array([[-0.33504974,  0.02852654,  1.16193084],\n",
       "       [-1.37746253, -0.4058213 ,  0.44359618],\n",
       "       [-1.04520026, -0.72334759, -3.10470423],\n",
       "       ...,\n",
       "       [-0.75602574, -0.51816111, -2.20382324],\n",
       "       [ 0.56066316, -0.07335845, -2.15660348],\n",
       "       [-1.87521902, -1.11380394, -4.04620773]])"
      ]
     },
     "execution_count": 3,
     "metadata": {},
     "output_type": "execute_result"
    }
   ],
   "source": [
    "X"
   ]
  },
  {
   "cell_type": "markdown",
   "id": "5942fa9b",
   "metadata": {
    "papermill": {
     "duration": 0.005522,
     "end_time": "2023-05-16T18:05:20.495271",
     "exception": false,
     "start_time": "2023-05-16T18:05:20.489749",
     "status": "completed"
    },
    "tags": []
   },
   "source": [
    "## We can now split the data into a training set and a test set:\n",
    "\n",
    " "
   ]
  },
  {
   "cell_type": "code",
   "execution_count": 4,
   "id": "bcdad1c7",
   "metadata": {
    "execution": {
     "iopub.execute_input": "2023-05-16T18:05:20.508412Z",
     "iopub.status.busy": "2023-05-16T18:05:20.507718Z",
     "iopub.status.idle": "2023-05-16T18:05:20.601536Z",
     "shell.execute_reply": "2023-05-16T18:05:20.600422Z"
    },
    "papermill": {
     "duration": 0.103227,
     "end_time": "2023-05-16T18:05:20.604008",
     "exception": false,
     "start_time": "2023-05-16T18:05:20.500781",
     "status": "completed"
    },
    "tags": []
   },
   "outputs": [],
   "source": [
    "from sklearn.model_selection import train_test_split\n",
    "X_train,X_test,y_train,y_test=train_test_split(\n",
    "    X,y, test_size=0.33,random_state=42)"
   ]
  },
  {
   "cell_type": "markdown",
   "id": "b583534d",
   "metadata": {
    "papermill": {
     "duration": 0.005393,
     "end_time": "2023-05-16T18:05:20.615180",
     "exception": false,
     "start_time": "2023-05-16T18:05:20.609787",
     "status": "completed"
    },
    "tags": []
   },
   "source": [
    "The training set will be used to train the KNN model, and the test set will be used to evaluate the model's performance.\n",
    "\n",
    "## Now, we can create a KNN classifier and Train:"
   ]
  },
  {
   "cell_type": "code",
   "execution_count": 5,
   "id": "1412997d",
   "metadata": {
    "execution": {
     "iopub.execute_input": "2023-05-16T18:05:20.628391Z",
     "iopub.status.busy": "2023-05-16T18:05:20.627621Z",
     "iopub.status.idle": "2023-05-16T18:05:20.836032Z",
     "shell.execute_reply": "2023-05-16T18:05:20.835003Z"
    },
    "papermill": {
     "duration": 0.217595,
     "end_time": "2023-05-16T18:05:20.838257",
     "exception": false,
     "start_time": "2023-05-16T18:05:20.620662",
     "status": "completed"
    },
    "tags": []
   },
   "outputs": [
    {
     "data": {
      "text/html": [
       "<style>#sk-container-id-1 {color: black;background-color: white;}#sk-container-id-1 pre{padding: 0;}#sk-container-id-1 div.sk-toggleable {background-color: white;}#sk-container-id-1 label.sk-toggleable__label {cursor: pointer;display: block;width: 100%;margin-bottom: 0;padding: 0.3em;box-sizing: border-box;text-align: center;}#sk-container-id-1 label.sk-toggleable__label-arrow:before {content: \"▸\";float: left;margin-right: 0.25em;color: #696969;}#sk-container-id-1 label.sk-toggleable__label-arrow:hover:before {color: black;}#sk-container-id-1 div.sk-estimator:hover label.sk-toggleable__label-arrow:before {color: black;}#sk-container-id-1 div.sk-toggleable__content {max-height: 0;max-width: 0;overflow: hidden;text-align: left;background-color: #f0f8ff;}#sk-container-id-1 div.sk-toggleable__content pre {margin: 0.2em;color: black;border-radius: 0.25em;background-color: #f0f8ff;}#sk-container-id-1 input.sk-toggleable__control:checked~div.sk-toggleable__content {max-height: 200px;max-width: 100%;overflow: auto;}#sk-container-id-1 input.sk-toggleable__control:checked~label.sk-toggleable__label-arrow:before {content: \"▾\";}#sk-container-id-1 div.sk-estimator input.sk-toggleable__control:checked~label.sk-toggleable__label {background-color: #d4ebff;}#sk-container-id-1 div.sk-label input.sk-toggleable__control:checked~label.sk-toggleable__label {background-color: #d4ebff;}#sk-container-id-1 input.sk-hidden--visually {border: 0;clip: rect(1px 1px 1px 1px);clip: rect(1px, 1px, 1px, 1px);height: 1px;margin: -1px;overflow: hidden;padding: 0;position: absolute;width: 1px;}#sk-container-id-1 div.sk-estimator {font-family: monospace;background-color: #f0f8ff;border: 1px dotted black;border-radius: 0.25em;box-sizing: border-box;margin-bottom: 0.5em;}#sk-container-id-1 div.sk-estimator:hover {background-color: #d4ebff;}#sk-container-id-1 div.sk-parallel-item::after {content: \"\";width: 100%;border-bottom: 1px solid gray;flex-grow: 1;}#sk-container-id-1 div.sk-label:hover label.sk-toggleable__label {background-color: #d4ebff;}#sk-container-id-1 div.sk-serial::before {content: \"\";position: absolute;border-left: 1px solid gray;box-sizing: border-box;top: 0;bottom: 0;left: 50%;z-index: 0;}#sk-container-id-1 div.sk-serial {display: flex;flex-direction: column;align-items: center;background-color: white;padding-right: 0.2em;padding-left: 0.2em;position: relative;}#sk-container-id-1 div.sk-item {position: relative;z-index: 1;}#sk-container-id-1 div.sk-parallel {display: flex;align-items: stretch;justify-content: center;background-color: white;position: relative;}#sk-container-id-1 div.sk-item::before, #sk-container-id-1 div.sk-parallel-item::before {content: \"\";position: absolute;border-left: 1px solid gray;box-sizing: border-box;top: 0;bottom: 0;left: 50%;z-index: -1;}#sk-container-id-1 div.sk-parallel-item {display: flex;flex-direction: column;z-index: 1;position: relative;background-color: white;}#sk-container-id-1 div.sk-parallel-item:first-child::after {align-self: flex-end;width: 50%;}#sk-container-id-1 div.sk-parallel-item:last-child::after {align-self: flex-start;width: 50%;}#sk-container-id-1 div.sk-parallel-item:only-child::after {width: 0;}#sk-container-id-1 div.sk-dashed-wrapped {border: 1px dashed gray;margin: 0 0.4em 0.5em 0.4em;box-sizing: border-box;padding-bottom: 0.4em;background-color: white;}#sk-container-id-1 div.sk-label label {font-family: monospace;font-weight: bold;display: inline-block;line-height: 1.2em;}#sk-container-id-1 div.sk-label-container {text-align: center;}#sk-container-id-1 div.sk-container {/* jupyter's `normalize.less` sets `[hidden] { display: none; }` but bootstrap.min.css set `[hidden] { display: none !important; }` so we also need the `!important` here to be able to override the default hidden behavior on the sphinx rendered scikit-learn.org. See: https://github.com/scikit-learn/scikit-learn/issues/21755 */display: inline-block !important;position: relative;}#sk-container-id-1 div.sk-text-repr-fallback {display: none;}</style><div id=\"sk-container-id-1\" class=\"sk-top-container\"><div class=\"sk-text-repr-fallback\"><pre>KNeighborsClassifier()</pre><b>In a Jupyter environment, please rerun this cell to show the HTML representation or trust the notebook. <br />On GitHub, the HTML representation is unable to render, please try loading this page with nbviewer.org.</b></div><div class=\"sk-container\" hidden><div class=\"sk-item\"><div class=\"sk-estimator sk-toggleable\"><input class=\"sk-toggleable__control sk-hidden--visually\" id=\"sk-estimator-id-1\" type=\"checkbox\" checked><label for=\"sk-estimator-id-1\" class=\"sk-toggleable__label sk-toggleable__label-arrow\">KNeighborsClassifier</label><div class=\"sk-toggleable__content\"><pre>KNeighborsClassifier()</pre></div></div></div></div></div>"
      ],
      "text/plain": [
       "KNeighborsClassifier()"
      ]
     },
     "execution_count": 5,
     "metadata": {},
     "output_type": "execute_result"
    }
   ],
   "source": [
    "from sklearn.neighbors import KNeighborsClassifier\n",
    "classifier=KNeighborsClassifier(n_neighbors=5,algorithm='auto')\n",
    "classifier.fit(X_train,y_train)"
   ]
  },
  {
   "cell_type": "markdown",
   "id": "fc472cb4",
   "metadata": {
    "papermill": {
     "duration": 0.005542,
     "end_time": "2023-05-16T18:05:20.849795",
     "exception": false,
     "start_time": "2023-05-16T18:05:20.844253",
     "status": "completed"
    },
    "tags": []
   },
   "source": [
    "The n_neighbors parameter specifies the number of neighbors to use.\n",
    "\n",
    "## We can now predict the KNN model:"
   ]
  },
  {
   "cell_type": "code",
   "execution_count": 6,
   "id": "0dc3f8a3",
   "metadata": {
    "execution": {
     "iopub.execute_input": "2023-05-16T18:05:20.863123Z",
     "iopub.status.busy": "2023-05-16T18:05:20.862733Z",
     "iopub.status.idle": "2023-05-16T18:05:20.877112Z",
     "shell.execute_reply": "2023-05-16T18:05:20.876220Z"
    },
    "papermill": {
     "duration": 0.023786,
     "end_time": "2023-05-16T18:05:20.879364",
     "exception": false,
     "start_time": "2023-05-16T18:05:20.855578",
     "status": "completed"
    },
    "tags": []
   },
   "outputs": [],
   "source": [
    "y_pred=classifier.predict(X_test)"
   ]
  },
  {
   "cell_type": "markdown",
   "id": "a2f0e6d6",
   "metadata": {
    "papermill": {
     "duration": 0.005589,
     "end_time": "2023-05-16T18:05:20.891018",
     "exception": false,
     "start_time": "2023-05-16T18:05:20.885429",
     "status": "completed"
    },
    "tags": []
   },
   "source": [
    "### Finally, we can evaluate the model's performance on the test set:"
   ]
  },
  {
   "cell_type": "code",
   "execution_count": 7,
   "id": "ebd3b5a8",
   "metadata": {
    "execution": {
     "iopub.execute_input": "2023-05-16T18:05:20.904093Z",
     "iopub.status.busy": "2023-05-16T18:05:20.903719Z",
     "iopub.status.idle": "2023-05-16T18:05:20.920405Z",
     "shell.execute_reply": "2023-05-16T18:05:20.919181Z"
    },
    "papermill": {
     "duration": 0.02592,
     "end_time": "2023-05-16T18:05:20.922602",
     "exception": false,
     "start_time": "2023-05-16T18:05:20.896682",
     "status": "completed"
    },
    "tags": []
   },
   "outputs": [
    {
     "name": "stdout",
     "output_type": "stream",
     "text": [
      "[[158  20]\n",
      " [ 11 141]]\n",
      "0.906060606060606\n",
      "              precision    recall  f1-score   support\n",
      "\n",
      "           0       0.93      0.89      0.91       178\n",
      "           1       0.88      0.93      0.90       152\n",
      "\n",
      "    accuracy                           0.91       330\n",
      "   macro avg       0.91      0.91      0.91       330\n",
      "weighted avg       0.91      0.91      0.91       330\n",
      "\n"
     ]
    }
   ],
   "source": [
    "from sklearn.metrics import confusion_matrix,accuracy_score,classification_report\n",
    "print(confusion_matrix(y_pred,y_test))\n",
    "print(accuracy_score(y_pred,y_test))\n",
    "print(classification_report(y_pred,y_test))"
   ]
  },
  {
   "cell_type": "markdown",
   "id": "27377441",
   "metadata": {
    "papermill": {
     "duration": 0.005798,
     "end_time": "2023-05-16T18:05:20.934899",
     "exception": false,
     "start_time": "2023-05-16T18:05:20.929101",
     "status": "completed"
    },
    "tags": []
   },
   "source": [
    "**The output of the confusion_matrix function is a table that shows the number of instances that were correctly classified and the number of instances that were incorrectly classified.<br>The accuracy score is the fraction of instances that were correctly classified.<br>\n",
    "The f1-score is a harmonic mean of the precision and recall.<br><br>In this case, the KNN model has an accuracy of 0.906, a precision of 0.93, a recall of 0.89, and an f1-score of 0.91. This means that the model is very good at predicting the correct class for the test instances.**"
   ]
  },
  {
   "cell_type": "markdown",
   "id": "a7f4f03b",
   "metadata": {
    "papermill": {
     "duration": 0.005657,
     "end_time": "2023-05-16T18:05:20.946515",
     "exception": false,
     "start_time": "2023-05-16T18:05:20.940858",
     "status": "completed"
    },
    "tags": []
   },
   "source": [
    "## Perform a GridSearchCV to find the best parameters"
   ]
  },
  {
   "cell_type": "code",
   "execution_count": 8,
   "id": "a8de1d3d",
   "metadata": {
    "execution": {
     "iopub.execute_input": "2023-05-16T18:05:20.960407Z",
     "iopub.status.busy": "2023-05-16T18:05:20.959666Z",
     "iopub.status.idle": "2023-05-16T18:05:21.262844Z",
     "shell.execute_reply": "2023-05-16T18:05:21.262008Z"
    },
    "papermill": {
     "duration": 0.312548,
     "end_time": "2023-05-16T18:05:21.265090",
     "exception": false,
     "start_time": "2023-05-16T18:05:20.952542",
     "status": "completed"
    },
    "tags": []
   },
   "outputs": [
    {
     "data": {
      "text/html": [
       "<style>#sk-container-id-2 {color: black;background-color: white;}#sk-container-id-2 pre{padding: 0;}#sk-container-id-2 div.sk-toggleable {background-color: white;}#sk-container-id-2 label.sk-toggleable__label {cursor: pointer;display: block;width: 100%;margin-bottom: 0;padding: 0.3em;box-sizing: border-box;text-align: center;}#sk-container-id-2 label.sk-toggleable__label-arrow:before {content: \"▸\";float: left;margin-right: 0.25em;color: #696969;}#sk-container-id-2 label.sk-toggleable__label-arrow:hover:before {color: black;}#sk-container-id-2 div.sk-estimator:hover label.sk-toggleable__label-arrow:before {color: black;}#sk-container-id-2 div.sk-toggleable__content {max-height: 0;max-width: 0;overflow: hidden;text-align: left;background-color: #f0f8ff;}#sk-container-id-2 div.sk-toggleable__content pre {margin: 0.2em;color: black;border-radius: 0.25em;background-color: #f0f8ff;}#sk-container-id-2 input.sk-toggleable__control:checked~div.sk-toggleable__content {max-height: 200px;max-width: 100%;overflow: auto;}#sk-container-id-2 input.sk-toggleable__control:checked~label.sk-toggleable__label-arrow:before {content: \"▾\";}#sk-container-id-2 div.sk-estimator input.sk-toggleable__control:checked~label.sk-toggleable__label {background-color: #d4ebff;}#sk-container-id-2 div.sk-label input.sk-toggleable__control:checked~label.sk-toggleable__label {background-color: #d4ebff;}#sk-container-id-2 input.sk-hidden--visually {border: 0;clip: rect(1px 1px 1px 1px);clip: rect(1px, 1px, 1px, 1px);height: 1px;margin: -1px;overflow: hidden;padding: 0;position: absolute;width: 1px;}#sk-container-id-2 div.sk-estimator {font-family: monospace;background-color: #f0f8ff;border: 1px dotted black;border-radius: 0.25em;box-sizing: border-box;margin-bottom: 0.5em;}#sk-container-id-2 div.sk-estimator:hover {background-color: #d4ebff;}#sk-container-id-2 div.sk-parallel-item::after {content: \"\";width: 100%;border-bottom: 1px solid gray;flex-grow: 1;}#sk-container-id-2 div.sk-label:hover label.sk-toggleable__label {background-color: #d4ebff;}#sk-container-id-2 div.sk-serial::before {content: \"\";position: absolute;border-left: 1px solid gray;box-sizing: border-box;top: 0;bottom: 0;left: 50%;z-index: 0;}#sk-container-id-2 div.sk-serial {display: flex;flex-direction: column;align-items: center;background-color: white;padding-right: 0.2em;padding-left: 0.2em;position: relative;}#sk-container-id-2 div.sk-item {position: relative;z-index: 1;}#sk-container-id-2 div.sk-parallel {display: flex;align-items: stretch;justify-content: center;background-color: white;position: relative;}#sk-container-id-2 div.sk-item::before, #sk-container-id-2 div.sk-parallel-item::before {content: \"\";position: absolute;border-left: 1px solid gray;box-sizing: border-box;top: 0;bottom: 0;left: 50%;z-index: -1;}#sk-container-id-2 div.sk-parallel-item {display: flex;flex-direction: column;z-index: 1;position: relative;background-color: white;}#sk-container-id-2 div.sk-parallel-item:first-child::after {align-self: flex-end;width: 50%;}#sk-container-id-2 div.sk-parallel-item:last-child::after {align-self: flex-start;width: 50%;}#sk-container-id-2 div.sk-parallel-item:only-child::after {width: 0;}#sk-container-id-2 div.sk-dashed-wrapped {border: 1px dashed gray;margin: 0 0.4em 0.5em 0.4em;box-sizing: border-box;padding-bottom: 0.4em;background-color: white;}#sk-container-id-2 div.sk-label label {font-family: monospace;font-weight: bold;display: inline-block;line-height: 1.2em;}#sk-container-id-2 div.sk-label-container {text-align: center;}#sk-container-id-2 div.sk-container {/* jupyter's `normalize.less` sets `[hidden] { display: none; }` but bootstrap.min.css set `[hidden] { display: none !important; }` so we also need the `!important` here to be able to override the default hidden behavior on the sphinx rendered scikit-learn.org. See: https://github.com/scikit-learn/scikit-learn/issues/21755 */display: inline-block !important;position: relative;}#sk-container-id-2 div.sk-text-repr-fallback {display: none;}</style><div id=\"sk-container-id-2\" class=\"sk-top-container\"><div class=\"sk-text-repr-fallback\"><pre>GridSearchCV(cv=5, estimator=KNeighborsClassifier(),\n",
       "             param_grid={&#x27;n_neighbors&#x27;: [1, 2, 3, 4, 5, 6, 7, 8, 9, 10]})</pre><b>In a Jupyter environment, please rerun this cell to show the HTML representation or trust the notebook. <br />On GitHub, the HTML representation is unable to render, please try loading this page with nbviewer.org.</b></div><div class=\"sk-container\" hidden><div class=\"sk-item sk-dashed-wrapped\"><div class=\"sk-label-container\"><div class=\"sk-label sk-toggleable\"><input class=\"sk-toggleable__control sk-hidden--visually\" id=\"sk-estimator-id-2\" type=\"checkbox\" ><label for=\"sk-estimator-id-2\" class=\"sk-toggleable__label sk-toggleable__label-arrow\">GridSearchCV</label><div class=\"sk-toggleable__content\"><pre>GridSearchCV(cv=5, estimator=KNeighborsClassifier(),\n",
       "             param_grid={&#x27;n_neighbors&#x27;: [1, 2, 3, 4, 5, 6, 7, 8, 9, 10]})</pre></div></div></div><div class=\"sk-parallel\"><div class=\"sk-parallel-item\"><div class=\"sk-item\"><div class=\"sk-label-container\"><div class=\"sk-label sk-toggleable\"><input class=\"sk-toggleable__control sk-hidden--visually\" id=\"sk-estimator-id-3\" type=\"checkbox\" ><label for=\"sk-estimator-id-3\" class=\"sk-toggleable__label sk-toggleable__label-arrow\">estimator: KNeighborsClassifier</label><div class=\"sk-toggleable__content\"><pre>KNeighborsClassifier()</pre></div></div></div><div class=\"sk-serial\"><div class=\"sk-item\"><div class=\"sk-estimator sk-toggleable\"><input class=\"sk-toggleable__control sk-hidden--visually\" id=\"sk-estimator-id-4\" type=\"checkbox\" ><label for=\"sk-estimator-id-4\" class=\"sk-toggleable__label sk-toggleable__label-arrow\">KNeighborsClassifier</label><div class=\"sk-toggleable__content\"><pre>KNeighborsClassifier()</pre></div></div></div></div></div></div></div></div></div></div>"
      ],
      "text/plain": [
       "GridSearchCV(cv=5, estimator=KNeighborsClassifier(),\n",
       "             param_grid={'n_neighbors': [1, 2, 3, 4, 5, 6, 7, 8, 9, 10]})"
      ]
     },
     "execution_count": 8,
     "metadata": {},
     "output_type": "execute_result"
    }
   ],
   "source": [
    "## Task \n",
    "#GridsearchCV\\\n",
    "from sklearn.model_selection import GridSearchCV\n",
    "kclassifier1=KNeighborsClassifier(algorithm='auto')\n",
    "param_grid = {\n",
    "    'n_neighbors': [1,2,3,4,5,6,7,8,9,10],\n",
    "}\n",
    "\n",
    "# Create an instance of GridSearchCV\n",
    "grid_search = GridSearchCV(estimator=kclassifier1, param_grid=param_grid, cv=5)\n",
    "\n",
    "# Fit the grid search to the data\n",
    "grid_search.fit(X_train,y_train)\n",
    "\n"
   ]
  },
  {
   "cell_type": "code",
   "execution_count": 9,
   "id": "1335b722",
   "metadata": {
    "execution": {
     "iopub.execute_input": "2023-05-16T18:05:21.279082Z",
     "iopub.status.busy": "2023-05-16T18:05:21.278729Z",
     "iopub.status.idle": "2023-05-16T18:05:21.283662Z",
     "shell.execute_reply": "2023-05-16T18:05:21.283002Z"
    },
    "papermill": {
     "duration": 0.0141,
     "end_time": "2023-05-16T18:05:21.285468",
     "exception": false,
     "start_time": "2023-05-16T18:05:21.271368",
     "status": "completed"
    },
    "tags": []
   },
   "outputs": [
    {
     "data": {
      "text/plain": [
       "{'n_neighbors': 9}"
      ]
     },
     "execution_count": 9,
     "metadata": {},
     "output_type": "execute_result"
    }
   ],
   "source": [
    "grid_search.best_params_"
   ]
  },
  {
   "cell_type": "markdown",
   "id": "32a7aa5c",
   "metadata": {
    "papermill": {
     "duration": 0.005833,
     "end_time": "2023-05-16T18:05:21.297632",
     "exception": false,
     "start_time": "2023-05-16T18:05:21.291799",
     "status": "completed"
    },
    "tags": []
   },
   "source": [
    "## Make predictions and Evaluate the performance of the model with the best parameters:"
   ]
  },
  {
   "cell_type": "code",
   "execution_count": 10,
   "id": "da6a96ae",
   "metadata": {
    "execution": {
     "iopub.execute_input": "2023-05-16T18:05:21.311708Z",
     "iopub.status.busy": "2023-05-16T18:05:21.311098Z",
     "iopub.status.idle": "2023-05-16T18:05:21.335055Z",
     "shell.execute_reply": "2023-05-16T18:05:21.333776Z"
    },
    "papermill": {
     "duration": 0.033572,
     "end_time": "2023-05-16T18:05:21.337256",
     "exception": false,
     "start_time": "2023-05-16T18:05:21.303684",
     "status": "completed"
    },
    "tags": []
   },
   "outputs": [
    {
     "name": "stdout",
     "output_type": "stream",
     "text": [
      "[[156  16]\n",
      " [ 13 145]]\n",
      "0.9121212121212121\n",
      "              precision    recall  f1-score   support\n",
      "\n",
      "           0       0.92      0.91      0.91       172\n",
      "           1       0.90      0.92      0.91       158\n",
      "\n",
      "    accuracy                           0.91       330\n",
      "   macro avg       0.91      0.91      0.91       330\n",
      "weighted avg       0.91      0.91      0.91       330\n",
      "\n"
     ]
    }
   ],
   "source": [
    "y_pred=grid_search.predict(X_test)\n",
    "from sklearn.metrics import confusion_matrix,accuracy_score,classification_report\n",
    "print(confusion_matrix(y_pred,y_test))\n",
    "print(accuracy_score(y_pred,y_test))\n",
    "print(classification_report(y_pred,y_test))"
   ]
  },
  {
   "cell_type": "markdown",
   "id": "91c058ca",
   "metadata": {
    "papermill": {
     "duration": 0.006006,
     "end_time": "2023-05-16T18:05:21.349740",
     "exception": false,
     "start_time": "2023-05-16T18:05:21.343734",
     "status": "completed"
    },
    "tags": []
   },
   "source": [
    "**The best parameters for the KNN model are n_neighbors=9. The model has an accuracy of 0.912, a precision of 0.92, a recall of 0.91, and an f1-score of 0.91. This means that the model is very good at predicting the correct class for the test instances.**"
   ]
  },
  {
   "cell_type": "markdown",
   "id": "1894759e",
   "metadata": {
    "papermill": {
     "duration": 0.005862,
     "end_time": "2023-05-16T18:05:21.361774",
     "exception": false,
     "start_time": "2023-05-16T18:05:21.355912",
     "status": "completed"
    },
    "tags": []
   },
   "source": [
    "## K Nearest Neighbour Regression"
   ]
  },
  {
   "cell_type": "code",
   "execution_count": 11,
   "id": "8a6d16e6",
   "metadata": {
    "execution": {
     "iopub.execute_input": "2023-05-16T18:05:21.375860Z",
     "iopub.status.busy": "2023-05-16T18:05:21.375283Z",
     "iopub.status.idle": "2023-05-16T18:05:21.380870Z",
     "shell.execute_reply": "2023-05-16T18:05:21.379992Z"
    },
    "papermill": {
     "duration": 0.01493,
     "end_time": "2023-05-16T18:05:21.382853",
     "exception": false,
     "start_time": "2023-05-16T18:05:21.367923",
     "status": "completed"
    },
    "tags": []
   },
   "outputs": [],
   "source": [
    "## K Nearest Neighbour Regression\n",
    "from sklearn.datasets import make_regression\n",
    "X, y = make_regression(n_samples=1000, n_features=2, noise=10, random_state=42)"
   ]
  },
  {
   "cell_type": "code",
   "execution_count": 12,
   "id": "22df1ef2",
   "metadata": {
    "execution": {
     "iopub.execute_input": "2023-05-16T18:05:21.397492Z",
     "iopub.status.busy": "2023-05-16T18:05:21.397117Z",
     "iopub.status.idle": "2023-05-16T18:05:21.402341Z",
     "shell.execute_reply": "2023-05-16T18:05:21.401425Z"
    },
    "papermill": {
     "duration": 0.014915,
     "end_time": "2023-05-16T18:05:21.404192",
     "exception": false,
     "start_time": "2023-05-16T18:05:21.389277",
     "status": "completed"
    },
    "tags": []
   },
   "outputs": [],
   "source": [
    "from sklearn.model_selection import train_test_split\n",
    "X_train, X_test, y_train, y_test = train_test_split(\n",
    "    X, y, test_size=0.33, random_state=42)"
   ]
  },
  {
   "cell_type": "code",
   "execution_count": 13,
   "id": "d3241150",
   "metadata": {
    "execution": {
     "iopub.execute_input": "2023-05-16T18:05:21.422469Z",
     "iopub.status.busy": "2023-05-16T18:05:21.421217Z",
     "iopub.status.idle": "2023-05-16T18:05:21.429908Z",
     "shell.execute_reply": "2023-05-16T18:05:21.428826Z"
    },
    "papermill": {
     "duration": 0.021177,
     "end_time": "2023-05-16T18:05:21.432202",
     "exception": false,
     "start_time": "2023-05-16T18:05:21.411025",
     "status": "completed"
    },
    "tags": []
   },
   "outputs": [],
   "source": [
    "from sklearn.neighbors import KNeighborsRegressor\n",
    "regressor=KNeighborsRegressor(n_neighbors=6,algorithm='auto')\n",
    "regressor.fit(X_train,y_train)\n",
    "y_pred=regressor.predict(X_test)"
   ]
  },
  {
   "cell_type": "code",
   "execution_count": 14,
   "id": "88945d9e",
   "metadata": {
    "execution": {
     "iopub.execute_input": "2023-05-16T18:05:21.449775Z",
     "iopub.status.busy": "2023-05-16T18:05:21.448717Z",
     "iopub.status.idle": "2023-05-16T18:05:21.459143Z",
     "shell.execute_reply": "2023-05-16T18:05:21.457279Z"
    },
    "papermill": {
     "duration": 0.02151,
     "end_time": "2023-05-16T18:05:21.461562",
     "exception": false,
     "start_time": "2023-05-16T18:05:21.440052",
     "status": "completed"
    },
    "tags": []
   },
   "outputs": [
    {
     "name": "stdout",
     "output_type": "stream",
     "text": [
      "0.9189275159979495\n",
      "9.009462452972217\n",
      "127.45860414317289\n"
     ]
    }
   ],
   "source": [
    "from sklearn.metrics import r2_score,mean_absolute_error,mean_squared_error\n",
    "print(r2_score(y_test,y_pred))\n",
    "print(mean_absolute_error(y_test,y_pred))\n",
    "print(mean_squared_error(y_test,y_pred))"
   ]
  }
 ],
 "metadata": {
  "kernelspec": {
   "display_name": "Python 3",
   "language": "python",
   "name": "python3"
  },
  "language_info": {
   "codemirror_mode": {
    "name": "ipython",
    "version": 3
   },
   "file_extension": ".py",
   "mimetype": "text/x-python",
   "name": "python",
   "nbconvert_exporter": "python",
   "pygments_lexer": "ipython3",
   "version": "3.10.10"
  },
  "papermill": {
   "default_parameters": {},
   "duration": 13.037904,
   "end_time": "2023-05-16T18:05:22.391537",
   "environment_variables": {},
   "exception": null,
   "input_path": "__notebook__.ipynb",
   "output_path": "__notebook__.ipynb",
   "parameters": {},
   "start_time": "2023-05-16T18:05:09.353633",
   "version": "2.4.0"
  }
 },
 "nbformat": 4,
 "nbformat_minor": 5
}
